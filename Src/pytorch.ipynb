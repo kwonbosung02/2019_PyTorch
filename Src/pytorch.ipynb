{
  "nbformat": 4,
  "nbformat_minor": 0,
  "metadata": {
    "colab": {
      "name": "pytorch.ipynb",
      "version": "0.3.2",
      "provenance": [],
      "collapsed_sections": []
    },
    "kernelspec": {
      "name": "python3",
      "display_name": "Python 3"
    },
    "accelerator": "GPU"
  },
  "cells": [
    {
      "cell_type": "code",
      "metadata": {
        "id": "x3LO32GTplfi",
        "colab_type": "code",
        "colab": {
          "base_uri": "https://localhost:8080/",
          "height": 164
        },
        "outputId": "97fda1a7-5c58-4df3-d18a-8b7387d48b51"
      },
      "source": [
        "import torch\n",
        "if torch.cuda.is_available():\n",
        "  device = torch.device(\"cuda\")\n",
        "  x = torch.ones(2,2,device=device,requires_grad=True)\n",
        "  \n",
        "  print(x)\n",
        "  \n",
        "  y = x + 2\n",
        "  print(y)\n",
        "  print(y.grad_fn) # y = 연산의 결과\n",
        "  \n",
        "  z = y * y * 3\n",
        "  \n",
        "  out = z.mean()\n",
        "  \n",
        "  print(z, out)"
      ],
      "execution_count": 15,
      "outputs": [
        {
          "output_type": "stream",
          "text": [
            "tensor([[1., 1.],\n",
            "        [1., 1.]], device='cuda:0', requires_grad=True)\n",
            "tensor([[3., 3.],\n",
            "        [3., 3.]], device='cuda:0', grad_fn=<AddBackward0>)\n",
            "<AddBackward0 object at 0x7f392993c710>\n",
            "tensor([[27., 27.],\n",
            "        [27., 27.]], device='cuda:0', grad_fn=<MulBackward0>) tensor(27., device='cuda:0', grad_fn=<MeanBackward0>)\n"
          ],
          "name": "stdout"
        }
      ]
    },
    {
      "cell_type": "code",
      "metadata": {
        "id": "qTEchWmnvHbL",
        "colab_type": "code",
        "colab": {
          "base_uri": "https://localhost:8080/",
          "height": 71
        },
        "outputId": "0ccee4e4-f6aa-449d-b809-7c05612641f5"
      },
      "source": [
        "  a = torch.randn(2,2,device= device)\n",
        "  a = ((a*3)/(a-1))\n",
        "  print(a.requires_grad)\n",
        "  a.requires_grad_(True)\n",
        "  print(a.requires_grad)\n",
        "  b = (a*a).sum()\n",
        "  print(b.grad_fn)\n",
        "  "
      ],
      "execution_count": 20,
      "outputs": [
        {
          "output_type": "stream",
          "text": [
            "False\n",
            "True\n",
            "<SumBackward0 object at 0x7f3929932be0>\n"
          ],
          "name": "stdout"
        }
      ]
    }
  ]
}